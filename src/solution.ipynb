{
 "cells": [
  {
   "cell_type": "code",
   "execution_count": 48,
   "metadata": {
    "collapsed": true,
    "pycharm": {
     "name": "#%%\n"
    }
   },
   "outputs": [],
   "source": [
    "import re\n",
    "\n",
    "def print_analysis(file):\n",
    "    seqs = ''.join(file.readlines())\n",
    "    pattern = r\">.*?\\n((?:[ACTGN]+\\n)+)\"\n",
    "    results = [s.replace(\"\\n\", \"\") for s in re.findall(pattern, seqs)]\n",
    "    lens = sorted(list(map(len, results)))\n",
    "    print(f\"Количество: {len(results)}\\nОбщая длина: {sum(lens)}\\nМаксимальная длина: {max(lens)}\\nN50: {lens[len(lens) // 2]}\")"
   ]
  },
  {
   "cell_type": "code",
   "execution_count": 49,
   "outputs": [
    {
     "name": "stdout",
     "output_type": "stream",
     "text": [
      "Контиги\n",
      "Количество: 612\n",
      "Общая длина: 3925328\n",
      "Максимальная длина: 179307\n",
      "N50: 179\n",
      "\n"
     ]
    }
   ],
   "source": [
    "with open(\"data/contigs.fasta\", \"r\") as contigs:\n",
    "    print(\"Контиги\")\n",
    "    print_analysis(contigs)\n",
    "    print()"
   ],
   "metadata": {
    "collapsed": false,
    "pycharm": {
     "name": "#%%\n"
    }
   }
  },
  {
   "cell_type": "code",
   "execution_count": 50,
   "outputs": [
    {
     "name": "stdout",
     "output_type": "stream",
     "text": [
      "Скаффолды\n",
      "Количество: 70\n",
      "Общая длина: 3919039\n",
      "Максимальная длина: 3880579\n",
      "N50: 230\n",
      "\n"
     ]
    }
   ],
   "source": [
    "with open(\"data/scaffolds.fasta\", \"r\") as scaffolds:\n",
    "    print(\"Скаффолды\")\n",
    "    print_analysis(scaffolds)\n",
    "    print()"
   ],
   "metadata": {
    "collapsed": false,
    "pycharm": {
     "name": "#%%\n"
    }
   }
  },
  {
   "cell_type": "code",
   "execution_count": 51,
   "outputs": [],
   "source": [
    "def print_longest(file, out):\n",
    "    seqs = ''.join(file.readlines())\n",
    "    pattern = r\"(>.*?\\n(?:(?:[ACTGN]+\\n)+))\"\n",
    "    results = re.findall(pattern, seqs)\n",
    "    print(max(results, key=len), file=out)"
   ],
   "metadata": {
    "collapsed": false,
    "pycharm": {
     "name": "#%%\n"
    }
   }
  },
  {
   "cell_type": "code",
   "execution_count": 52,
   "outputs": [],
   "source": [
    "with open(\"data/scaffolds_before.fasta\") as scaffolds, open(\"data/longest_before.fasta\", \"w\") as longest:\n",
    "    print_longest(scaffolds, longest)"
   ],
   "metadata": {
    "collapsed": false,
    "pycharm": {
     "name": "#%%\n"
    }
   }
  },
  {
   "cell_type": "code",
   "execution_count": 53,
   "outputs": [],
   "source": [
    "with open(\"data/scaffolds.fasta\") as scaffolds, open(\"data/longest.fasta\", \"w\") as longest:\n",
    "    print_longest(scaffolds, longest)"
   ],
   "metadata": {
    "collapsed": false,
    "pycharm": {
     "name": "#%%\n"
    }
   }
  },
  {
   "cell_type": "code",
   "execution_count": 54,
   "outputs": [],
   "source": [
    "def print_gaps(file):\n",
    "    seq = ''.join(file.readlines())\n",
    "    pattern = r\"N+\"\n",
    "    results = re.findall(pattern, seq)\n",
    "    print(f\"Количество: {len(results)}\\nОбщая длина: {sum(map(len, results))}\")"
   ],
   "metadata": {
    "collapsed": false,
    "pycharm": {
     "name": "#%%\n"
    }
   }
  },
  {
   "cell_type": "code",
   "execution_count": 55,
   "outputs": [
    {
     "name": "stdout",
     "output_type": "stream",
     "text": [
      "Количество: 145\n",
      "Общая длина: 6346\n"
     ]
    }
   ],
   "source": [
    "with open(\"data/longest_before.fasta\") as longest:\n",
    "    print_gaps(longest)"
   ],
   "metadata": {
    "collapsed": false,
    "pycharm": {
     "name": "#%%\n"
    }
   }
  },
  {
   "cell_type": "code",
   "execution_count": 56,
   "outputs": [
    {
     "name": "stdout",
     "output_type": "stream",
     "text": [
      "Количество: 29\n",
      "Общая длина: 1674\n"
     ]
    }
   ],
   "source": [
    "with open(\"data/longest.fasta\") as longest:\n",
    "    print_gaps(longest)"
   ],
   "metadata": {
    "collapsed": false,
    "pycharm": {
     "name": "#%%\n"
    }
   }
  }
 ],
 "metadata": {
  "kernelspec": {
   "display_name": "Python 3",
   "language": "python",
   "name": "python3"
  },
  "language_info": {
   "codemirror_mode": {
    "name": "ipython",
    "version": 2
   },
   "file_extension": ".py",
   "mimetype": "text/x-python",
   "name": "python",
   "nbconvert_exporter": "python",
   "pygments_lexer": "ipython2",
   "version": "2.7.6"
  }
 },
 "nbformat": 4,
 "nbformat_minor": 0
}