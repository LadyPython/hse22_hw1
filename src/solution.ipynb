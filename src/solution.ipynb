{
 "cells": [
  {
   "cell_type": "code",
   "execution_count": 33,
   "metadata": {
    "collapsed": true,
    "pycharm": {
     "name": "#%%\n"
    }
   },
   "outputs": [],
   "source": [
    "import re\n",
    "\n",
    "\n",
    "def print_analysis(file):\n",
    "    seqs = ''.join(file.readlines())\n",
    "    pattern = r\">.*?\\n((?:[ACTGN]+\\n)+)\"\n",
    "    results = [s.replace(\"\\n\", \"\") for s in re.findall(pattern, seqs)]\n",
    "    lens = sorted(list(map(len, results)))\n",
    "    total_length = sum(lens)\n",
    "    s = 0\n",
    "    i = len(lens)\n",
    "    while s * 2 < total_length:\n",
    "        i -= 1\n",
    "        s += lens[i]\n",
    "    print(\n",
    "        f\"Количество: {len(results)}\\nОбщая длина: {total_length}\\nМаксимальная длина: {max(lens)}\\nN50: {lens[i]}\"\n",
    "    )"
   ]
  },
  {
   "cell_type": "code",
   "execution_count": 34,
   "outputs": [
    {
     "name": "stdout",
     "output_type": "stream",
     "text": [
      "Контиги\n",
      "Количество: 612\n",
      "Общая длина: 3925328\n",
      "Максимальная длина: 179307\n",
      "N50: 47611\n",
      "\n"
     ]
    }
   ],
   "source": [
    "with open(\"../data/contigs.fasta\") as contigs:\n",
    "    print(\"Контиги\")\n",
    "    print_analysis(contigs)\n",
    "    print()"
   ],
   "metadata": {
    "collapsed": false,
    "pycharm": {
     "name": "#%%\n"
    }
   }
  },
  {
   "cell_type": "code",
   "execution_count": 35,
   "outputs": [
    {
     "name": "stdout",
     "output_type": "stream",
     "text": [
      "Скаффолды\n",
      "Количество: 70\n",
      "Общая длина: 3876568\n",
      "Максимальная длина: 3838373\n",
      "N50: 3838373\n",
      "\n"
     ]
    }
   ],
   "source": [
    "with open(\"../data/scaffolds_before.fasta\") as scaffolds:\n",
    "    print(\"Скаффолды\")\n",
    "    print_analysis(scaffolds)\n",
    "    print()"
   ],
   "metadata": {
    "collapsed": false,
    "pycharm": {
     "name": "#%%\n"
    }
   }
  },
  {
   "cell_type": "code",
   "execution_count": 36,
   "outputs": [],
   "source": [
    "def write_longest(file, out):\n",
    "    seqs = ''.join(file.readlines())\n",
    "    pattern = r\"(>.*?\\n(?:(?:[ACTGN]+\\n)+))\"\n",
    "    results = re.findall(pattern, seqs)\n",
    "    print(max(results, key=len), file=out)"
   ],
   "metadata": {
    "collapsed": false,
    "pycharm": {
     "name": "#%%\n"
    }
   }
  },
  {
   "cell_type": "code",
   "execution_count": 37,
   "outputs": [],
   "source": [
    "with open(\"../data/scaffolds_before.fasta\") as scaffolds, open(\"../data/longest_before.fasta\", \"w\") as longest:\n",
    "    write_longest(scaffolds, longest)"
   ],
   "metadata": {
    "collapsed": false,
    "pycharm": {
     "name": "#%%\n"
    }
   }
  },
  {
   "cell_type": "code",
   "execution_count": 38,
   "outputs": [],
   "source": [
    "with open(\"../data/scaffolds.fasta\") as scaffolds, open(\"../data/longest.fasta\", \"w\") as longest:\n",
    "    write_longest(scaffolds, longest)"
   ],
   "metadata": {
    "collapsed": false,
    "pycharm": {
     "name": "#%%\n"
    }
   }
  },
  {
   "cell_type": "code",
   "execution_count": 39,
   "outputs": [],
   "source": [
    "def print_gaps(file):\n",
    "    seq = ''.join(file.readlines())\n",
    "    pattern = r\"N+\"\n",
    "    results = re.findall(pattern, seq)\n",
    "    print(f\"Количество: {len(results)}\\nОбщая длина: {sum(map(len, results))}\")"
   ],
   "metadata": {
    "collapsed": false,
    "pycharm": {
     "name": "#%%\n"
    }
   }
  },
  {
   "cell_type": "code",
   "execution_count": 40,
   "outputs": [
    {
     "name": "stdout",
     "output_type": "stream",
     "text": [
      "Пропуски (до gap_close)\n",
      "Количество: 145\n",
      "Общая длина: 6346\n"
     ]
    }
   ],
   "source": [
    "print(\"Пропуски (до gap_close)\")\n",
    "with open(\"../data/longest_before.fasta\") as longest:\n",
    "    print_gaps(longest)"
   ],
   "metadata": {
    "collapsed": false,
    "pycharm": {
     "name": "#%%\n"
    }
   }
  },
  {
   "cell_type": "code",
   "execution_count": 41,
   "outputs": [
    {
     "name": "stdout",
     "output_type": "stream",
     "text": [
      "Пропуски (после gap_close)\n",
      "Количество: 29\n",
      "Общая длина: 1674\n"
     ]
    }
   ],
   "source": [
    "print(\"Пропуски (после gap_close)\")\n",
    "with open(\"../data/longest.fasta\") as longest:\n",
    "    print_gaps(longest)"
   ],
   "metadata": {
    "collapsed": false,
    "pycharm": {
     "name": "#%%\n"
    }
   }
  },
  {
   "cell_type": "code",
   "execution_count": 42,
   "outputs": [
    {
     "name": "stdout",
     "output_type": "stream",
     "text": [
      "Бонус\n",
      "\n",
      "Контиги\n",
      "Количество: 3437\n",
      "Общая длина: 3917295\n",
      "Максимальная длина: 22414\n",
      "N50: 4001\n",
      "\n",
      "Скаффолды\n",
      "Количество: 469\n",
      "Общая длина: 3867696\n",
      "Максимальная длина: 809546\n",
      "N50: 583164\n",
      "\n",
      "Пропуски (до gap_close)\n",
      "Количество: 602\n",
      "Общая длина: 20022\n",
      "\n",
      "Пропуски (после gap_close)\n",
      "Количество: 150\n",
      "Общая длина: 9703\n",
      "\n"
     ]
    }
   ],
   "source": [
    "print(\"Бонус\")\n",
    "print()\n",
    "\n",
    "with open(\"../data/bonus_contigs.fasta\") as contigs, open(\"../data/bonus_scaffolds_before.fasta\") as scaffolds:\n",
    "    print(\"Контиги\")\n",
    "    print_analysis(contigs)\n",
    "    print()\n",
    "    print(\"Скаффолды\")\n",
    "    print_analysis(scaffolds)\n",
    "    print()\n",
    "\n",
    "with open(\"../data/bonus_scaffolds.fasta\") as scaffolds, open(\"../data/bonus_scaffolds_before.fasta\") as scaffolds_before,\\\n",
    "        open(\"../data/bonus_longest.fasta\", \"w\") as bonus_longest, open(\"../data/bonus_longest_before.fasta\", \"w\") as bonus_longest_before:\n",
    "    write_longest(scaffolds_before, bonus_longest_before)\n",
    "    write_longest(scaffolds, bonus_longest)\n",
    "\n",
    "with open(\"../data/bonus_longest.fasta\") as bonus_longest, open(\"../data/bonus_longest_before.fasta\") as bonus_longest_before:\n",
    "    print(\"Пропуски (до gap_close)\")\n",
    "    print_gaps(bonus_longest_before)\n",
    "    print()\n",
    "    print(\"Пропуски (после gap_close)\")\n",
    "    print_gaps(bonus_longest)\n",
    "    print()"
   ],
   "metadata": {
    "collapsed": false,
    "pycharm": {
     "name": "#%%\n"
    }
   }
  },
  {
   "cell_type": "markdown",
   "source": [
    "По всем параметрам видно, что чем больше чтений, тем лучше."
   ],
   "metadata": {
    "collapsed": false,
    "pycharm": {
     "name": "#%% md\n"
    }
   }
  }
 ],
 "metadata": {
  "kernelspec": {
   "display_name": "Python 3",
   "language": "python",
   "name": "python3"
  },
  "language_info": {
   "codemirror_mode": {
    "name": "ipython",
    "version": 2
   },
   "file_extension": ".py",
   "mimetype": "text/x-python",
   "name": "python",
   "nbconvert_exporter": "python",
   "pygments_lexer": "ipython2",
   "version": "2.7.6"
  }
 },
 "nbformat": 4,
 "nbformat_minor": 0
}